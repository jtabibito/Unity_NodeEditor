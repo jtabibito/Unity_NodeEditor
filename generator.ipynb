{
 "cells": [
  {
   "cell_type": "code",
   "execution_count": 1,
   "metadata": {},
   "outputs": [],
   "source": [
    "class Node:\n",
    "    def __init__(self, value):\n",
    "        self.value = value\n",
    "        self.children = []\n",
    "\n",
    "class Tree:\n",
    "    def __init__(self, root:Node):\n",
    "        self.root = root"
   ]
  },
  {
   "cell_type": "code",
   "execution_count": 2,
   "metadata": {},
   "outputs": [],
   "source": [
    "from queue import LifoQueue\n",
    "\n",
    "def dfs(node:Node):\n",
    "    print(node.value, ' ', [i.value for i in node.children])\n",
    "    for child in node.children:\n",
    "        dfs(child)\n",
    "\n",
    "def tree_parser(data):\n",
    "    root = Node(0)\n",
    "    stack = LifoQueue()\n",
    "    int_val = -1\n",
    "    for it in enumerate(data):\n",
    "        if it[1].isdigit():\n",
    "            if int_val == -1:\n",
    "                int_val = 0\n",
    "            int_val = int_val * 10 + (int(it[1]))\n",
    "        elif it[1] == '(':\n",
    "            if int_val != -1:\n",
    "                stack.put(Node(int_val))\n",
    "                int_val = -1\n",
    "        elif it[1] == ')':\n",
    "            if int_val != -1:\n",
    "                stack.put(Node(int_val))\n",
    "                int_val = -1\n",
    "            node = stack.get()\n",
    "            if stack.empty():\n",
    "                root.children.append(node)\n",
    "            else:\n",
    "                stack.queue[-1].children.append(node)\n",
    "        elif it[1] == ',':\n",
    "            if int_val != -1:\n",
    "                stack.put(Node(int_val))\n",
    "                int_val = -1\n",
    "            node = stack.get()\n",
    "            stack.queue[-1].children.append(node)\n",
    "    return Tree(root)\n",
    "\n",
    "def tree_package(tree:Tree):\n",
    "    def dfs(node:Node):\n",
    "        if len(node.children) == 0:\n",
    "            return str(node.value)\n",
    "        else:\n",
    "            return str(node.value) + '(' + ','.join([dfs(child) for child in node.children]) + ')'\n",
    "    return '(' + dfs(tree.root.children[0]) + ')'"
   ]
  },
  {
   "cell_type": "code",
   "execution_count": 5,
   "metadata": {},
   "outputs": [
    {
     "name": "stdout",
     "output_type": "stream",
     "text": [
      "(1(2(3(4(5(6(7))))),0))\n"
     ]
    }
   ],
   "source": [
    "# test_data = '(1(2(3(4(5(6(7(8,0),0),0),0),0),0),0,0))'\n",
    "test_data = '(1(2(3(4(5(6(7))))),0))'\n",
    "# test_data = '(1(2(3(4(5(6(7)))))))'\n",
    "\n",
    "tree = tree_parser(test_data)\n",
    "# dfs(tree.root)\n",
    "print(tree_package(tree))"
   ]
  }
 ],
 "metadata": {
  "kernelspec": {
   "display_name": "Python 3.9.12 ('base')",
   "language": "python",
   "name": "python3"
  },
  "language_info": {
   "codemirror_mode": {
    "name": "ipython",
    "version": 3
   },
   "file_extension": ".py",
   "mimetype": "text/x-python",
   "name": "python",
   "nbconvert_exporter": "python",
   "pygments_lexer": "ipython3",
   "version": "3.9.12"
  },
  "orig_nbformat": 4,
  "vscode": {
   "interpreter": {
    "hash": "49cb93f377a7abe7414b7b0f21fb3017538004a126cf690fb524202736b7fb92"
   }
  }
 },
 "nbformat": 4,
 "nbformat_minor": 2
}
